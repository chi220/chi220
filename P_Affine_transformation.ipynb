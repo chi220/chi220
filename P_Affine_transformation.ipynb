{
  "nbformat": 4,
  "nbformat_minor": 0,
  "metadata": {
    "colab": {
      "name": "P:Affine_transformation.ipynb ",
      "provenance": [],
      "collapsed_sections": []
    },
    "kernelspec": {
      "name": "python3",
      "display_name": "Python 3"
    }
  },
  "cells": [
    {
      "cell_type": "markdown",
      "metadata": {
        "id": "VpANYSD7V4Uy",
        "colab_type": "text"
      },
      "source": [
        "グループメンバー\n",
        "- 鎌田夏輝\n",
        "- 谷瑞幾\n",
        "- 内藤千尋\n",
        "- 中田亮佑\n",
        "- 前井涼花\n",
        "- 村田賢\n",
        "- 宮村京佑"
      ]
    },
    {
      "cell_type": "code",
      "metadata": {
        "id": "O_9_jtfQzplH",
        "colab_type": "code",
        "colab": {}
      },
      "source": [
        "import numpy as np\n",
        "import matplotlib.pyplot as plt\n",
        "%matplotlib inline\n"
      ],
      "execution_count": null,
      "outputs": []
    },
    {
      "cell_type": "code",
      "metadata": {
        "id": "SRTAejH6JjpA",
        "colab_type": "code",
        "colab": {}
      },
      "source": [
        "import numpy as np\n",
        "from PIL import Image\n",
        "\n",
        "def imgfile2bin(filename):\n",
        "    threshold = 100\n",
        "    img = np.array(Image.open(filename).convert('L').resize((200, 200)))\n",
        "    img_bool = img > threshold\n",
        "    c_img = np.array([])\n",
        "    for i in range(img_bool.shape[0]):\n",
        "        for j in range(img_bool.shape[1]):\n",
        "            if img_bool[i,j]==False:\n",
        "                c_img=np.append(c_img,complex(j,(img_bool.shape[0]-1)-i))\n",
        "    return c_img"
      ],
      "execution_count": null,
      "outputs": []
    },
    {
      "cell_type": "code",
      "metadata": {
        "id": "PatY7N6TKXug",
        "colab_type": "code",
        "colab": {}
      },
      "source": [
        "import cmath\n",
        "import math\n",
        "\n",
        "def com2polar(arr):\n",
        "    p_arr = np.array([])\n",
        "    for value in arr:\n",
        "        p_arr=np.append(p_arr, np.array([cmath.polar(value)[0], math.degrees(cmath.polar(value)[1])]))\n",
        "    p_arr = p_arr.reshape([arr.shape[0], 2])\n",
        "    return p_arr\n",
        "    \n",
        "\n",
        "def polar2com(arr):\n",
        "    c_arr = np.array([])\n",
        "    for value in arr:\n",
        "        c_arr=np.append(c_arr,[cmath.rect(value[0],math.radians(value[1]))])\n",
        "    return c_arr"
      ],
      "execution_count": null,
      "outputs": []
    },
    {
      "cell_type": "code",
      "metadata": {
        "id": "nfgju0ozJjrM",
        "colab_type": "code",
        "colab": {
          "base_uri": "https://localhost:8080/",
          "height": 33
        },
        "outputId": "5eb5f423-3bf3-4940-eb8f-354d3d5779df"
      },
      "source": [
        "from google.colab import drive\n",
        "drive.mount('/content/drive')"
      ],
      "execution_count": null,
      "outputs": [
        {
          "output_type": "stream",
          "text": [
            "Drive already mounted at /content/drive; to attempt to forcibly remount, call drive.mount(\"/content/drive\", force_remount=True).\n"
          ],
          "name": "stdout"
        }
      ]
    },
    {
      "cell_type": "code",
      "metadata": {
        "id": "9faney4dVrQw",
        "colab_type": "code",
        "colab": {}
      },
      "source": [
        "import numpy as np\n",
        "from PIL import Image\n",
        "\n",
        "def imgfile2xy(filename):\n",
        "  threshold=100\n",
        "  img = np.array(Image.open(filename).convert('L').resize((200, 200)))\n",
        "  img_bool = img > threshold\n",
        "  x = np.array([])\n",
        "  y = np.array([])\n",
        "  for i in range(img_bool.shape[0]):\n",
        "    for j in range(img_bool.shape[1]):\n",
        "      if img_bool[i,j]==False:\n",
        "        x=np.append(x, j)\n",
        "        y=np.append(y, (img_bool.shape[0]-1)-i)\n",
        "  \n",
        "  return np.concatenate([[x], [y]])"
      ],
      "execution_count": null,
      "outputs": []
    },
    {
      "cell_type": "code",
      "metadata": {
        "id": "1RQDvljxJjvQ",
        "colab_type": "code",
        "colab": {
          "base_uri": "https://localhost:8080/",
          "height": 50
        },
        "outputId": "d925f662-97e5-403d-f616-d363f92acb7e"
      },
      "source": [
        "# 画像を読みこむ\n",
        "#img = imgfile2bin('/content/drive/My Drive/G6 (2年前期)/データと数理I/flower.jpg') \n",
        "#img\n",
        "img = imgfile2xy('/content/drive/My Drive/G6 (2年前期)/データと数理I/flower.jpg') \n",
        "img"
      ],
      "execution_count": null,
      "outputs": [
        {
          "output_type": "execute_result",
          "data": {
            "text/plain": [
              "array([[120., 121., 122., ...,  23.,  24.,  25.],\n",
              "       [158., 158., 158., ...,   0.,   0.,   0.]])"
            ]
          },
          "metadata": {
            "tags": []
          },
          "execution_count": 70
        }
      ]
    },
    {
      "cell_type": "markdown",
      "metadata": {
        "id": "KdaHECinJ8qd",
        "colab_type": "text"
      },
      "source": [
        "課題１：花びらを表示する\n",
        "252,150,188"
      ]
    },
    {
      "cell_type": "code",
      "metadata": {
        "id": "XgYS-s3fJjt2",
        "colab_type": "code",
        "colab": {
          "base_uri": "https://localhost:8080/",
          "height": 264
        },
        "outputId": "771ae9cf-2f50-4ed1-ff5d-0af84f196b10"
      },
      "source": [
        "#花びらの表示\n",
        "import matplotlib.pyplot as plt\n",
        "%matplotlib inline\n",
        "plt.scatter(img.real,img.imag, s=1, color=\"pink\")\n",
        "plt.axis('equal') # 実軸、虚軸を等間隔に\n",
        "plt.grid(which='major')\n",
        "plt.show()"
      ],
      "execution_count": null,
      "outputs": [
        {
          "output_type": "display_data",
          "data": {
            "image/png": "[encoded data removed]",
            "text/plain": [
              "<Figure size 432x288 with 1 Axes>"
            ]
          },
          "metadata": {
            "tags": [],
            "needs_background": "light"
          }
        }
      ]
    },
    {
      "cell_type": "markdown",
      "metadata": {
        "id": "eUh-IZbgKFNp",
        "colab_type": "text"
      },
      "source": [
        "アフィン変換で72度回転させる"
      ]
    },
    {
      "cell_type": "code",
      "metadata": {
        "id": "OBjzErvyXc9S",
        "colab_type": "code",
        "colab": {
          "base_uri": "https://localhost:8080/",
          "height": 83
        },
        "outputId": "3a3848ba-c827-416a-e1f5-7c447d2cd976"
      },
      "source": [
        "import math\n",
        "\n",
        "A=np.array([\n",
        "            [math.cos(math.radians(72)), -math.sin(math.radians(72)), 0],\n",
        "            [math.sin(math.radians(72)), math.cos(math.radians(72)), 0],\n",
        "            [0, 0, 1]\n",
        "])\n",
        "# データ行列の3行目に1が成分の行を追加する\n",
        "img1=np.insert(img, 2, 1, axis=0)\n",
        "\n",
        "imgnew=np.dot(A,img1)\n",
        "\n",
        "# 変換後のデータ行列の3行目を消去\n",
        "imgnew=np.delete(imgnew, 2, axis=0)\n",
        "imgnew"
      ],
      "execution_count": null,
      "outputs": [
        {
          "output_type": "execute_result",
          "data": {
            "text/plain": [
              "array([[-113.18489025, -112.87587326, -112.56685626, ...,    7.10739087,\n",
              "           7.41640786,    7.72542486],\n",
              "       [ 162.95146707,  163.90252358,  164.8535801 , ...,   21.87429987,\n",
              "          22.82535639,   23.77641291]])"
            ]
          },
          "metadata": {
            "tags": []
          },
          "execution_count": 72
        }
      ]
    },
    {
      "cell_type": "code",
      "metadata": {
        "id": "F9jhVuiuXlto",
        "colab_type": "code",
        "colab": {
          "base_uri": "https://localhost:8080/",
          "height": 264
        },
        "outputId": "50fb39cb-1fee-4ace-c940-4827ebd5cbed"
      },
      "source": [
        "import matplotlib.pyplot as plt\n",
        "%matplotlib inline\n",
        "import math\n",
        "for i in range(1,5):\n",
        "\n",
        "  A=np.array([\n",
        "            [math.cos(math.radians(72*i)), -math.sin(math.radians(72*i)), 0],\n",
        "            [math.sin(math.radians(72*i)), math.cos(math.radians(72*i)), 0],\n",
        "            [0, 0, 1]\n",
        "])\n",
        "  # データ行列の3行目に1が成分の行を追加する\n",
        "  img1=np.insert(img, 2, 1, axis=0)\n",
        "\n",
        "  imgnew=np.dot(A,img1)\n",
        "\n",
        "  # 変換後のデータ行列の3行目を消去\n",
        "  imgnew=np.delete(imgnew, 2, axis=0)\n",
        "  imgnew\n",
        "  # 元画像を灰色\n",
        "  plt.scatter(img[0],img[1], s=1, color=\"pink\")\n",
        "  # 移動後の画像を黒色\n",
        "  plt.scatter(imgnew[0], imgnew[1], s=1, color=\"pink\")\n",
        "  plt.axis('equal')\n",
        "  plt.grid(which='major')\n",
        "plt.show()"
      ],
      "execution_count": null,
      "outputs": [
        {
          "output_type": "display_data",
          "data": {
            "image/png": "[encoded data removed]",
            "text/plain": [
              "<Figure size 432x288 with 1 Axes>"
            ]
          },
          "metadata": {
            "tags": [],
            "needs_background": "light"
          }
        }
      ]
    },
    {
      "cell_type": "code",
      "metadata": {
        "id": "LVr7wG3-r2Ze",
        "colab_type": "code",
        "colab": {
          "base_uri": "https://localhost:8080/",
          "height": 264
        },
        "outputId": "e9c911bc-e1e6-4156-c8bd-9154cf88e312"
      },
      "source": [
        "import matplotlib.pyplot as plt\n",
        "%matplotlib inline\n",
        "import math\n",
        "for j in range(5):\n",
        "  for i in range(1,5):\n",
        "\n",
        "    A=np.array([\n",
        "            [math.cos(math.radians(72*i)), -math.sin(math.radians(72*i)), 0],\n",
        "            [math.sin(math.radians(72*i)), math.cos(math.radians(72*i)), 0],\n",
        "            [0, 0, 1]\n",
        "  ])\n",
        "    # データ行列の3行目に1が成分の行を追加する\n",
        "    img1=np.insert(img, 2, 1, axis=0)\n",
        "\n",
        "    imgnew=np.dot(A,img1)\n",
        "\n",
        "    # 変換後のデータ行列の3行目を消去\n",
        "    imgnew=np.delete(imgnew, 2, axis=0)\n",
        "    imgnew\n",
        "    # 元画像を灰色\n",
        "    plt.scatter(img[0],img[1], s=1, color=\"pink\")\n",
        "    # 移動後の画像を黒色\n",
        "    plt.scatter(imgnew[0], imgnew[1], s=1, color=\"pink\")\n",
        "    plt.axis('equal')\n",
        "    plt.grid(which='major')\n",
        "plt.show()"
      ],
      "execution_count": null,
      "outputs": [
        {
          "output_type": "display_data",
          "data": {
            "image/png": "[encoded data removed]",
            "text/plain": [
              "<Figure size 432x288 with 1 Axes>"
            ]
          },
          "metadata": {
            "tags": [],
            "needs_background": "light"
          }
        }
      ]
    },
    {
      "cell_type": "markdown",
      "metadata": {
        "id": "_A1QjuEXfCgu",
        "colab_type": "text"
      },
      "source": [
        "<h3> 花びらが舞っている様子を表現する\n",
        "\n",
        "\n"
      ]
    },
    {
      "cell_type": "code",
      "metadata": {
        "id": "3cOT_k9LcKmw",
        "colab_type": "code",
        "colab": {
          "base_uri": "https://localhost:8080/",
          "height": 264
        },
        "outputId": "b8682898-f503-44f4-cfea-018a97483503"
      },
      "source": [
        "import random\n",
        "for i in range(10):\n",
        "  A1=np.array([\n",
        "              [math.cos(math.radians(random.randint(0,360))), -math.sin(math.radians(random.randint(0,360))), 0],\n",
        "              [math.sin(math.radians(random.randint(0,180))), math.cos(math.radians(random.randint(0,180))), 0],\n",
        "              [0, 0, 1]\n",
        "  ])\n",
        "\n",
        "  A2=np.array([\n",
        "               [1/(random.randint(1,4)), 0, random.randint(-100,190)],\n",
        "               [0, 1/(random.randint(1,4)), random.randint(-100,190)],\n",
        "               [0, 0, 1]\n",
        "   ])\n",
        "\n",
        "  A=np.dot(A2,A1)\n",
        "\n",
        "  img1=np.insert(img, 2, 1, axis=0)\n",
        "\n",
        "  imgnew=np.dot(A,img1)\n",
        "\n",
        "  imgnew=np.delete(imgnew, 2, axis=0)\n",
        "\n",
        "  # plt.scatter(img[0],img[1], s=1, color=\"pink\")\n",
        "  # 移動後の画像を黒色\n",
        "  plt.scatter(imgnew[0], imgnew[1], s=1, color=\"pink\")\n",
        "  plt.axis('equal')\n",
        "  plt.grid(which='major')\n",
        "plt.show()"
      ],
      "execution_count": null,
      "outputs": [
        {
          "output_type": "display_data",
          "data": {
            "image/png": "[encoded data removed]",
            "text/plain": [
              "<Figure size 432x288 with 1 Axes>"
            ]
          },
          "metadata": {
            "tags": [],
            "needs_background": "light"
          }
        }
      ]
    },
    {
      "cell_type": "code",
      "metadata": {
        "id": "QGvg8xRzen5N",
        "colab_type": "code",
        "colab": {}
      },
      "source": [
        ""
      ],
      "execution_count": null,
      "outputs": []
    }
  ]
}